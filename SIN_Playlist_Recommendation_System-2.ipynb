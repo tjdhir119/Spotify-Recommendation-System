{
 "cells": [
  {
   "cell_type": "markdown",
   "metadata": {
    "id": "ilwata7G8fG1"
   },
   "source": [
    "# Preprocessing"
   ]
  },
  {
   "cell_type": "code",
   "execution_count": 1,
   "metadata": {
    "colab": {
     "base_uri": "https://localhost:8080/"
    },
    "id": "tyrWhDJJDqin",
    "outputId": "d7b79e15-fc20-46b4-fd58-842801c500aa"
   },
   "outputs": [
    {
     "name": "stdout",
     "output_type": "stream",
     "text": [
      "Requirement already satisfied: spotipy in /usr/local/lib/python3.10/site-packages (2.22.1)\n",
      "Requirement already satisfied: six>=1.15.0 in /usr/local/lib/python3.10/site-packages (from spotipy) (1.16.0)\n",
      "Requirement already satisfied: redis>=3.5.3 in /usr/local/lib/python3.10/site-packages (from spotipy) (4.5.1)\n",
      "Requirement already satisfied: requests>=2.25.0 in /usr/local/lib/python3.10/site-packages (from spotipy) (2.28.2)\n",
      "Requirement already satisfied: urllib3>=1.26.0 in /usr/local/lib/python3.10/site-packages (from spotipy) (1.26.14)\n",
      "Requirement already satisfied: async-timeout>=4.0.2 in /usr/local/lib/python3.10/site-packages (from redis>=3.5.3->spotipy) (4.0.2)\n",
      "Requirement already satisfied: certifi>=2017.4.17 in /usr/local/lib/python3.10/site-packages (from requests>=2.25.0->spotipy) (2022.12.7)\n",
      "Requirement already satisfied: charset-normalizer<4,>=2 in /usr/local/lib/python3.10/site-packages (from requests>=2.25.0->spotipy) (3.1.0)\n",
      "Requirement already satisfied: idna<4,>=2.5 in /usr/local/lib/python3.10/site-packages (from requests>=2.25.0->spotipy) (3.4)\n",
      "\n",
      "\u001b[1m[\u001b[0m\u001b[34;49mnotice\u001b[0m\u001b[1;39;49m]\u001b[0m\u001b[39;49m A new release of pip is available: \u001b[0m\u001b[31;49m23.0\u001b[0m\u001b[39;49m -> \u001b[0m\u001b[32;49m23.0.1\u001b[0m\n",
      "\u001b[1m[\u001b[0m\u001b[34;49mnotice\u001b[0m\u001b[1;39;49m]\u001b[0m\u001b[39;49m To update, run: \u001b[0m\u001b[32;49mpython3.10 -m pip install --upgrade pip\u001b[0m\n"
     ]
    }
   ],
   "source": [
    "!pip install spotipy"
   ]
  },
  {
   "cell_type": "code",
   "execution_count": 2,
   "metadata": {
    "colab": {
     "base_uri": "https://localhost:8080/"
    },
    "id": "GmbwW1Ksq8IQ",
    "outputId": "bb5b90e6-cfb9-4fca-bc45-828f07a2d8f5"
   },
   "outputs": [
    {
     "name": "stdout",
     "output_type": "stream",
     "text": [
      "Requirement already satisfied: tekore in /usr/local/lib/python3.10/site-packages (4.6.0)\n",
      "Requirement already satisfied: httpx<0.25,>=0.15 in /usr/local/lib/python3.10/site-packages (from tekore) (0.24.0)\n",
      "Requirement already satisfied: sniffio in /usr/local/lib/python3.10/site-packages (from httpx<0.25,>=0.15->tekore) (1.3.0)\n",
      "Requirement already satisfied: httpcore<0.18.0,>=0.15.0 in /usr/local/lib/python3.10/site-packages (from httpx<0.25,>=0.15->tekore) (0.17.0)\n",
      "Requirement already satisfied: certifi in /usr/local/lib/python3.10/site-packages (from httpx<0.25,>=0.15->tekore) (2022.12.7)\n",
      "Requirement already satisfied: idna in /usr/local/lib/python3.10/site-packages (from httpx<0.25,>=0.15->tekore) (3.4)\n",
      "Requirement already satisfied: h11<0.15,>=0.13 in /usr/local/lib/python3.10/site-packages (from httpcore<0.18.0,>=0.15.0->httpx<0.25,>=0.15->tekore) (0.14.0)\n",
      "Requirement already satisfied: anyio<5.0,>=3.0 in /usr/local/lib/python3.10/site-packages (from httpcore<0.18.0,>=0.15.0->httpx<0.25,>=0.15->tekore) (3.6.2)\n",
      "\n",
      "\u001b[1m[\u001b[0m\u001b[34;49mnotice\u001b[0m\u001b[1;39;49m]\u001b[0m\u001b[39;49m A new release of pip is available: \u001b[0m\u001b[31;49m23.0\u001b[0m\u001b[39;49m -> \u001b[0m\u001b[32;49m23.0.1\u001b[0m\n",
      "\u001b[1m[\u001b[0m\u001b[34;49mnotice\u001b[0m\u001b[1;39;49m]\u001b[0m\u001b[39;49m To update, run: \u001b[0m\u001b[32;49mpython3.10 -m pip install --upgrade pip\u001b[0m\n"
     ]
    }
   ],
   "source": [
    "!pip install tekore"
   ]
  },
  {
   "cell_type": "markdown",
   "metadata": {
    "id": "cSrX71kq211Q"
   },
   "source": [
    "##### Importing Libraries"
   ]
  },
  {
   "cell_type": "code",
   "execution_count": 3,
   "metadata": {
    "id": "_fXEXKl4CzDt"
   },
   "outputs": [],
   "source": [
    "import spotipy \n",
    "import spotipy.oauth2 as oauth2\n",
    "from spotipy.oauth2 import SpotifyOAuth\n",
    "from spotipy.oauth2 import SpotifyClientCredentials\n",
    "import pandas as pd\n",
    "import time"
   ]
  },
  {
   "cell_type": "markdown",
   "metadata": {
    "id": "tG_--KuJ3Dk1"
   },
   "source": [
    "##### Establishing Connection to Spotify API"
   ]
  },
  {
   "cell_type": "code",
   "execution_count": 4,
   "metadata": {
    "id": "5j1CnJfuDbou"
   },
   "outputs": [],
   "source": [
    "auth_manager = SpotifyClientCredentials(client_id=\"6f7bff06f19947e49e83ba2d0cc8ab63\", client_secret=\"33d5afa733b04156804b25086d5e13ca\")\n",
    "sp = spotipy.Spotify(auth_manager = auth_manager)"
   ]
  },
  {
   "cell_type": "markdown",
   "metadata": {
    "id": "NOiB8Z6e3LEI"
   },
   "source": [
    "##### Extracting Data from Training Playlist into a Dataframe"
   ]
  },
  {
   "cell_type": "code",
   "execution_count": 5,
   "metadata": {
    "id": "MY_d4UBSqzx4"
   },
   "outputs": [
    {
     "name": "stdout",
     "output_type": "stream",
     "text": [
      "['2EqlS6tkEnglzr7tkKAAYD', '0pNeVovbiZHkulpGeOx1Gj', '3Z25k4ZF6QENy2d9YatsM5', '6dGnYIeXmHdcikdzNNDMm2', '5BOHo7im7IvoqZjMQTNXZM', '6l5oqPAhFZD2GGnreM5dFm', '58TvuKjnOZK7mZp680GnqH', '6rHh8urosEFRI67xVa6fzU', '6Pq9MmkDQYZiiCDpxnvrf6', '3Am0IbOxmvlSXro7N5iSfZ', '4BRkPBUxOYffM2QXVlq7aC', '5GjPQ0eI7AgmOnADn1EO6Q', '1kDkaFlmkdEZiVUogaP9OZ', '1H7gMYGykdtwZOV6s1N0by', '5By7Pzgl6TMuVJG168VWzS', '25yQPHgC35WNnnOUqFhgVR', '6W35n1UlkvqhfMZstB4BXs', '0pQskrTITgmCMyr85tb9qq', '5IyL3XOaRPpTgxVjRIAxXU', '5TDZyWDfbQFQJabbPwImVY', '4bEb3KE4mSKlTFjtWJQBqO', '07GvNcU1WdyZJq3XxP0kZa', '7Dm3dV3WPNdTgxoNY7YFnc', '7yNK27ZTpHew0c55VvIJgm', '2gZUPNdnz5Y45eiGxpHGSc', '1ZHYJ2Wwgxes4m8Ba88PeK', '4e5IPJxSGVWPsaxQzdRseN', '4fzsfWzRhPawzqhX8Qt9F3', '4jQqM4NI79HEcWHUJb8Hvf', '4Sw4lblE6aXpoOJma6Mlx5', '51pQ7vY7WXzxskwloaeqyj', '55sjCMeQM26VxbNHhMtj2b', '5yM7n12a0w0ZIxgwoobENF', '2nVHqZbOGkKWzlcy1aMbE7', '5mphdlILgAq3vh1MSvAJTS', '1NV6sCADgcLSW7DG7zSWlq', '5NhlpQ6BOIz3S5welptk1W', '1KgfeuVn5OlsBEtoEmBa1t', '1ARsfVEoLWiJaikVJtvjDu', '6Nle9hKrkL1wQpwNfEkxjh', '3xKsf9qdS1CyvXSMEid6g8', '2ZWlPOoWh0626oTaHrnl2a', '4JlpoTqWdPewEGsnKcZ6ZG', '4S4Mfvv03M1cHgIOJcbUCL', '7eqoqGkKwgOaWNNHx90uEZ', '51YJLknlzP2rpcmcgYmlf3', '4fUKE8EULjQdHF4zb0M8FO', '3Pqf09cdDlOYDNkrbw5l0p', '2iIRl5jf9beA2ExZWzn2nt', '2FHzhdtYyYp56OINgDOY9z', '5bxRsFpy5bEy5gD1nmZUl5', '7KA4W4McWYRpgf0fWsJZWB', '1L94M3KIu7QluZe63g64rv', '5Xak5fmy089t0FYmh3VJiY', '62nQ8UZVqR2RMvkJHkcO2o', '2ctvdKmETyOzPb2GiJJT53', '3TO7bbrUKrOSPGRTB5MeCz', '0vFOzaXqZHahrZp6enQwQb', '05uGBKRCuePsf43Hfm0JwX', '5WNYg3usc6H8N3MBEp4zVk', '4bEcoz1OcfMgUbp2ft8ieQ', '21yRtB6B8EMounImAfHRCP', '0ESdtt9cjGZUkUbaubSrv2', '5hVghJ4KaYES3BFUATCYn0', '2aPTvyE09vUCRwVvj0I8WK', '4gMgiXfqyzZLMhsksGmbQV', '1nXZnTALNXiPlvXotqHm66', '5HNCy40Ni5BZJFw1TKzRsC', '1YYhDizHx7PnDhAhko6cDS', '4EpZ4eYuZOwPSSwyqpdHnJ', '452KBpASS5lZLeJWX9Ixub', '0eZvCQAK6hsPSlcfqzREvB', '0AQquaENerGps8BQmbPw14', '0GONea6G2XdnHWjNZd6zt3', '2H7PHVdQ3mXqEHXcvclTB0', '4EWBhKf1fOFnyMtUzACXEc', '5EYi2rH4LYs6M21ZLOyQTx', '4U45aEWtQhrm8A5mxPaFZ7', '02tvc9CFnTyHuSRlGeNv9w', '4oXg7xT4ksBxHTx8PcmSXw', '35YyxFpE0ZTOoqFx5bADW8', '78ZqE2tjAxbqEGGlvGnQfT', '3AbV3JF0bJAZXeHEJZfpke', '4T1iiabe7G0UjWQJCY6NE2', '4bHsxqR3GMrXTxEPLuK5ue', '2kRFrWaLWiKq48YYVdGcm8', '7Jh1bpe76CNTCgdgAdBw4Z', '02MWAaffLxlfxAUY7c5dvx', '5VGEgFZfWBoEOGb3Vlo3rU', '2rtGaCAeYtmcIvuZsvgTf6', '70C4NyhjD5OZUMzvWZ3njJ', '1W5XugQJGhnSATMI5n002M', '2nTsKOXIVGDf2iPeVQO2Gm', '0rRjGruFonCGOt0S5zAJNQ', '1LPGwuFgIzbJoShfDdw7MY', '4Na0siMtWOW9pJoWJ1Ponv', '40riOy7x9W7GXjyGp4pjAv', '1gk3FhAV07q9Jg77UxnVjX', '3Sj4lCOlYVeHpkvuc9W5Vn', '4vcoNCrTtunmJ9q8srpVly', '3SVAN3BRByDmHOhKyIDxfC', '4aOAzvRdOsZSwZIgwcdeL0', '1nQRg9q9uwALGzouOX5OyQ', '1bSpwPhAxZwlR2enJJsv7U', '5RgFlk1fcClZd0Y4SGYhqH', '0aym2LBJBk9DAYuHHutrIl', '0psB5QzGb4653K0uaPgEyh', '3d9DChrdc6BOeFsbrZ3Is0', '6PypGyiu0Y2lCDBN1XZEnP', '4jLv3tDBu8ww2R07DvL12s', '1Ud6moTC0KyXMq1Oxfien0', '2udGjDmpK1dH9VGyw7nrei', '49ScE2M6RIqfeHnnP4v94B', '03ZwNF6FTvazNuOXNQf8k8', '03yOjwHoOPDlTUg0NRxN6t', '0WQiDwKJclirSYG9v5tayI', '2Gl1Qdx5Px5kVYe0PQoGI0', '6IM45SqAURH6PrvziDs1RQ', '4uGIJG1jYFonGc4LGp5uQL', '0LtOwyZoSNZKJWHqjzADpW', '2X485T9Z5Ly0xyaghN73ed', '4vpeKl0vMGdAXpZiQB2Dtd', '30V02AmDYMRvrHE4L8cZAo', '4s6LhHAV5SEsOV0lC2tjvJ', '0iOZM63lendWRTTeKhZBSC', '76TZCvJ8GitQ2FA1q5dKu0', '6l8EbYRtQMgKOyc1gcDHF9', '7AL6qzIDHIX7pEUWrzNiIs', '7dvtNWoHd3ioEBmIl0s3In', '6K4t31amVTZDgR3sKmwUJJ', '3G69vJMWsX6ZohTykad2AU', '3uYsvFySXQfGfBq545GHk1', '7h1YqA5MZrRxmkUFpukRcp', '3MRQ3CSjoiV1HFil8ykM9M', '11607FzqoipskTsXrwEHnJ', '2x45xqISlmmDJqxOqr8BuS', '1jNWu1c5ilLHUHT0DhLOQB', '3PG7BAJG9WkmNOJOlc4uAo', '11VwZwNF29HrqwalYUMitb', '37pKTyMwalomKCZjxTc2QZ', '0AxZUYeQ9bZwSdt1LmZuok', '4oguhUGuMDBEKdxhtTXNMy', '0fOjUafaAhJV16oRBgCtz7', '119c93MHjrDLJTApCVGpvx', '5L2STOBiS00u7q4aLtRjKK', '3fElupNRLRJ0tbUDahPrAb', '29engDqjmMr3VLqMm0c0WE', '1RKUoGiLEbcXN4GY4spQDx', '0d28khcov6AiegSCpG5TuT', '4Hff1IjRbLGeLgFgxvHflk', '0q6LuUqGLUiCPP1cbdwFs3', '6LUfuyLgvgqrykiTE6sJHY', '14qqxRAH5R1LVpZwTB9wty', '7BO7ZbaEmgCSSp3znPMxN4', '6aU6a9tdn2vHhnPGlboFZX', '78JmElAFmrPNhLjovDR9Jm', '15wFxoOOHad7hGFifaU9ef', '7Bn7blCyMlPaMIiSFzQjSp', '1dztrlJvFYQgcRKet5Jvzs', '74tLlkN3rgVzRqQJgPfink', '6POE7KXN1KzMGeAWlFeCB3', '1JClFT74TYSXlzpagbmj0S', '3iVcZ5G6tvkXZkZKlMpIUs', '5zwz05jkQVT68CjUpPwFZe', '3UOuBNEin5peSRqdzvlnWM', '2RlgNHKcydI9sayD2Df2xp', '5QTxFnGygVM4jFQiBovmRo', '6WK9dVrRABMkUXFLNlgWFh', '2zvot9pY2FNl1E94kc4K8M', '2vdId18EePzFhwfp4ryqFq', '6REbwUNlppTfcnV4d4ZoZi', '3YuaBvuZqcwN3CEAyyoaei', '3pRaLNL3b8x5uBOcsgvdqM', '72Z17vmmeQKAg8bptWvpVG', '3CeYdUfGPCjKMDYyI1PpCh', '18GiV1BaXzPVYpp9rmOg0E', '2oaK4JLVnmRGIO9ytBE1bt', '5eSllZgRWCIJsDTAqFRwQw', '1aOxOpH4AkGAd8OMrKjyNY', '6p8eFfPw3nQkf37aT3AkmK', '0BxE4FqsDD1Ot4YuBXwAPp', '5IIybI1oiOCY3DRUrpQ7zA', '1qCQTy0fTXerET4x8VHyr9', '6Z8hE4x2n37erwKY2BuTlq', '07oIgOa6p1MZZqD8XelNq2', '1wcAKUbAyMRy0uSsFbyiCv', '15VRO9CQwMpbqUYA7e6Hwg', '5XeFesFbtLpXzIVDNQP22n', '5Iy1wdO0tMaHwKnfFYtlel', '086myS9r57YsLbJpU0TgK9', '5FVd6KXrgO9B3JPmC8OPst', '3Y4rUyw7XBCK6hGHCOt6rp', '0DwaOWI1kC2s98qLj0LTDd', '2lffRiAET2Xt6BNb4EmkS2', '4wajJ1o7jWIg62YqpkHC7S', '0xtIp0lgccN85GfGOekS5L', '5M4yti0QxgqJieUYaEXcpw', '5VarZFY00sO54HErJ3TPCI', '0UV5zxRMz6AO4ZwUOZNIKI', '51XZD1FCrWyU3dDWJH4nzb', '7l5j3FapCyr6HxUgoAynM2', '3h1iu4HvBlLqRuft2kJEcr', '3EEzQDCP8jRl2pEt9eDKMO', '1sEkQDvj0SurW8OUbQ8W3H', '2WhHmtcR2TX0repcqFqshr', '00YnfZzpODxlE6nNwfPCbv', '75JFxkI2RXiU7L9VXzMkle', '7LVHVU3tWfcxj5aiPFEW4Q', '0BCPKOYdS2jbQ8iyB56Zns', '7GJClzimvMSghjcrKxuf1M', '2jiPHbFX5XM8TjaTfYJ0eo', '4iaGeV4WFvP2ynbqCIyTpS', '4UkynNKM3QAFnYukL8Udi6', '7yq4Qj7cqayVTp3FF9CWbm', '3a6PN6BRB8PP3ms48s7kU1', '2gNfxysfBRfl9Lvi9T3v6R', '3ZuT0Evo8chdVM6rPXXqgd', '34LohAliZ2QKydqVJcFpwV', '57Xjny5yNzAcsxnusKmAfA', '7kzKAuUzOITUauHAhoMoxA', '4fPBB44eDH71YohayI4eKV', '6u0x5ad9ewHvs3z6u9Oe3c', '56NkIxSZZiMpFP5ZNSxtnT', '55N8cxpE1QDoeaaNqUnoZ2', '2t0wwvR15fc3K1ey8OiOaN', '4ofwffwvvnbSkrMSCKQDaC', '3dPQuX8Gs42Y7b454ybpMR', '3DQVgcqaP3iSMbaKsd57l5', '70wYA8oYHoMzhRRkARoMhU', '5n0CTysih20NYdT2S0Wpe8', '1jJci4qxiYcOHhQR247rEU', '2DrGEaqoruCSn0FffWCf5O', '6PwjJ58I4t7Mae9xfZ9l9v', '3skn2lauGk7Dx6bVIt5DVj', '3Pzh926pXggbMe2ZpXyMV7', '7w87IxuO7BDcJ3YUqCyMTT', '3X01VeoR0GckfiXlFRrJmF', '2QjOHCTQ1Jl3zawyYOpxh6', '4VqPOruhp5EdPBeR92t6lQ', '4oy8AV5jghaeOc1KEBDoFq', '4OciRObYGzPzlU40U7YRc8', '7wCmS9TTVUcIhRalDYFgPy', '0UvCh63URrLFcPkKt99hHd', '4KspXoCVJXGY1VrvEe1Hdm', '6Ub9ro6DKs0u0J0zIBw5Of', '17Nowmq4iF2rkbd1rAe1Vt', '34iOH7LY3vme5rQxsVILZ4', '5ykbOijJEfRhuo2Td1m0Qd', '3td69vL9Py7Ai9wfXYnvji', '0GO8y8jQk1PkHzS31d699N', '2pzPIvmSIZY9iArMiNgmWB', '2MLHyLy5z5l5YRp7momlgw', '5E30LdtzQTGqRvNd7l6kG5', '4IvZLDtwBHmBmwgDIUbuwa', '6NoVGd3nTHsmBV1yduWRta', '3VDRXEOQDjBsQyzbFs1qGa', '1eyzqe2QqGZUmfcPZtrIyt', '2GiJYvgVaD2HtM8GqD9EgQ', '2oeqKWbVwK5Ly2vjwWJKHd', '7FjIYiD53wxlQmzTT6Wdpf', '53jbdPQBaH6WaQvW0zmGBs', '11IJA30efHAJLO3qroPh5L', '2cSRuejq6DU9U6OkSmUw17', '4vHNeBWDQpVCmGbaccrRzi', '2TVxnKdb3tqe1nhQWwwZCO', '0GgN4MhR5GKn5IcKN0e0rG', '6ilc4vQcwMPlvAHFfsTGng', '7Bo0xLcXWx3pdhqwthqGaz', '78OBZL4Z6QHdwwloWIh0Lt', '2Zw3HNjaNV42LnQ2uY5JQs', '74lfGn1j0rBJ3YqR2mo4oU', '2cbic3TiUENlJX91y67ARR', '4Q66chx9WzqWcLItXoZ5r4', '6KCwPQApuQNQEV0hw93duq', '1Bph2KY0MA2JUiX5uADWjZ', '18UsAG7SfOQ5sxJEdjAMH0', '7D0RhFcb3CrfPuTJ0obrod', '19DIgGR0KFZhoE1lOrzspa', '5yMdmHPuHdcBM6ct8KiMxB', '7jP2937OACDPrN53DzO0Ye', '1dSp8A0PDSvRZXAsuuoge7', '5byXSKd7QOHtVMOiptklBD', '5bknBRjKJZ643DAN2w8Yoy', '0dWOFwdXrbBUYqD9DLsoyK', '2DgMxFMUQRPthW4ROhjen1', '6U0FIYXCQ3TGrk4tFpLrEA', '694vvR5o19xHPhhJ5QdLN7', '66dQdXAbtuPdSasezCQVZE', '7HRv1sYuwgoea1m0JRvChV', '6e7hIhOLH9zvb3zP5O5gt0', '2x8evxqUlF0eRabbW2JBJd', '2fyIS6GXMgUcSv4oejx63f', '2zzLRQ78kKfPTx8FJQCdC2', '37ZgsOy8t4vMnGtMExr6ah', '1MHYAqWWdDRePmnqORynrq', '1Q3t9fWvHUXKsMmpD2XpUu', '2LGdO5MtFdyphi2EihANZG', '0NdTUS4UiNYCNn5FgVqKQY', '799ijTmjRpYBglMxos8xxg', '41cpvQ2GyGb2BRdIRSsTqK', '16LgXyNShQbrqBRF4TT1Sr', '07rz54LA3Y2lagmY0DnChZ', '6YaC65M3ujeROidG3b09J0', '0RGjofsrdkC9c7Za5k6PGY', '3YRCqOhFifThpSRFJ1VWFM', '1QEEqeFIZktqIpPI4jSVSF', '1GqlvSEtMx5xbGptxOTTyk', '39C5FuZ8C8M0QI8CrMsPkR', '5E89Izp4YhPyNShoxiOJ1u', '5u5qlnyVaewWugJIjzilIc', '0870QNicMawQH2cnzBVZ3P', '1KxNmUInjFsoDFrLaTtpLZ', '6485cn8SoHq6qPdmeQcw4x', '5bsnLiT00hG37qd8p2jdVl', '6kblAEj0T0312fv5QWsXzo', '2N4idqj9TT3HnH2OFT9j0v', '0p5eZCY0R7uNCZS1YDtIYI', '75hwtYcghca6YKW4i6C6fP', '6cA1usDL8nTHeSgFewQat3', '6ixkZ2Q9gQeh52C6GxbETg', '4iwMhMvcTqukn1n3NVjb2N', '0iTpQYzJnYgh7kIxyq8A2O', '2BgEsaKNfHUdlh97KmvFyo', '4GS68CE8nKLIKjjapiSm2I', '2dgFqt3w9xIQRjhPtwNk3D', '6JGi17u6VRtBOMPNikWAAl', '29OnpzXNw65hrQtHSSX92Y', '0d0iBmyaaywSWyEjN9NQla', '4VpSEwNbwZp2MldPAzrsad', '3zOTVGUC2B5SJJQSjMfA2h', '0p7Km2ASBx05ejGe79hKbb', '3TYaPzMjqhgSt94hfRgPVw', '2CK9xYMVdmJMPKZyArVbt4', '75CpcKzegJQ7z7etILY0hg', '53taBvemC88CMHP2I1xAFX', '6QllZj61FBD4tkCHuAguBW', '4HffeEF97c6UxNePgbuECW', '2XiYhGA66qUZ1XKXt9rJKv', '5FKNq0lLJnP3iZzBTD0PZj', '3jtBwsqGMofVOpRQQgCoqF', '07akFpJE3QL6ZeyBjnMjpz', '1W4sOKBqwzP65i2J4D9QQK', '5nj502CTTN96K2PLDLMzMv', '2u5LzIfEnJR5jkUgbOfKRk', '4k0yY041y3wLd41uDjqROv', '38fqIKnhmZ3Wz9TQjrQ9T1', '1LCGfWwdgI1o7En7ZrdIOm', '0pScS2x0A81d2gwSfgxcWK', '6CkLsvxAgLkhc6R5pqdMHu', '35up95z3uh2Yot5Y08ODKR', '7fKlVI8I14XXgNjTwcsgja', '6yiyyY81Vae0bRHGYPB1y1', '5EBvHC0SGFJDenBJafqOX4', '44n97yHySt0Z9rqPaXgjCK', '5ln5yQdUywVbf8HhFsOcd6', '19W5OTEcQI3ZoRW1HERMyy', '0TW9oF6a1nWNS05eSUnjSP', '5cbpoIu3YjoOwbBDGUEp3P', '6BEKt5axiNeWCr9huv0k7I', '4j8gmCSLLy0TSFg2brV01g', '3FvV3j98xtcylQF1drDc9j', '5P3yUXUC9rZPJPNmYGKEAz', '2P61EK6DMGyVyssLWS4fKy', '5HCXMBxZIVaVLXpyoqPM3g', '5INKIG4QNuD4xq7qZcfPzp', '0sXvjZV7p4uvyPN4uQo3FH', '23OXdR7YuUBVWh5hSnYJau', '7I3skNaQdvZSS7zXY2VHId', '3Z8FwOEN59mRMxDCtb8N0A', '3Uo7WG0vmLQ07WB4BDwy7D', '1TnUURhehaoMWKAqQtirm6', '4h0zU3O9R5xzuTmNO7dNDU', '05M7RsZHcwXlF4pLnwTRA6', '0gOz9JUXsaKVzLTSmFDtdo', '65YnIFKuwUCLIqMHAP8TAm', '5IyuGEmlFsnp1TN1M9OSd8', '6nK2pIKFcRc5frrZKHgsiT', '4R2kfaDFhslZEMJqAFNpdd', '07YRZrOmEGdDicx0YziCPf', '77vDHmiANW3JS2gNN5q7pI', '2MnJzEez0tIs2rEWrWqzoI', '2k9N4caeCIJLOWwWwssrEM', '4hjbxjZpJ8H6qRCzDOGI0M', '2IAR0DziHCjSu16gR4ihvy', '4TmoMrbEXTkspReE9iScJA', '4B1rpPmQXwj78wk6aIGwwU', '3GIIv6Eo0WSuM9Bxx5DTdR', '2Tbym0L4Xlox9nol0YzPct', '3Yvk0ZLxMlt6ioasvdN6vB', '5swtwlhcbhjyCKgJnMm5xn', '7lidXGPXPYLNThITAOTlkK', '7daBwTiPNOVgoMUG4SICgh', '4XII12nbsvJblXfG1I2QR4', '1b2Jum7d1sv1XuCUCtb7Iv', '4lszNcJSaz61QT6gpMhFU1', '0Jlcvv8IykzHaSmj49uNW8', '3CeCwYWvdfXbZLXFhBrbnf', '2JzZzZUQj3Qff7wapcbKjc', '43rA71bccXFGD4C8GOpIlN', '2x0WlnmfG39ZuDmstl9xfX', '6NFyWDv5CjfwuzoCkw47Xf', '1P17dC1amhFzptugyAO7Il', '7AhMVnj6N89jmuCKNyr0AZ', '3l3lUyNu5zh6H6uByc5Xnr', '0SFq19lgG4qbQAZaNZ3xhO', '7qEHsqek33rTcFNT9PFqLf', '608xszaAxVh4m7NcKJiAbF', '2TpZlmChocrfeL5J6ed70t', '7LbUv7w2z7rEbNqp1uIL9U', '7kv7zBjMtVf0eIJle2VZxn', '4fbDfF6zuNcdqzI9cyK5hE', '7qVjoGvjdOFfk3uKVhvZU9', '2VEZx7NWsZ1D0eJ4uv5Fym', '6L89mwZXSOwYl76YXfX13s', '2LdUSfCPjgmCA4vhsWktjj', '4RdRa3qq0GBSKjomxrkh5K', '56KqaFSGTb7ifpt16t5Y1N', '20OFwXhEXf12DzwXmaV7fj', '7D49Iig0avHre9RFSUMkd2', '69uxyAqqPIsUyTO8txoP2M']\n",
      "420\n"
     ]
    }
   ],
   "source": [
    "import tekore as tk\n",
    "\n",
    "client_id = \"6f7bff06f19947e49e83ba2d0cc8ab63\"\n",
    "client_secret = \"33d5afa733b04156804b25086d5e13ca\"\n",
    "\n",
    "token = tk.request_client_token(client_id, client_secret)\n",
    "spotify = tk.Spotify(token)\n",
    "\n",
    "playlist_id = '6esNSA3di4WMl074l9H776' #'2nQViZA1WC1Cr2xdR3NRFG' #'2UIjpra1Y4N8cWDK3ZfPZI' #'27BSSlQSdagI7tLCa1Er5h'\n",
    "playlist = spotify.playlist(playlist_id)\n",
    "\n",
    "track_wo_ids = []\n",
    "track_ids = []\n",
    "\n",
    "first_items = spotify.playlist_items(playlist_id)\n",
    "for item in spotify.all_items(first_items):\n",
    "  track_wo_ids.append(item.track)\n",
    "\n",
    "for i in range(len(track_wo_ids)):\n",
    "  track_ids.append(track_wo_ids[i].__dict__['id'])\n",
    "\n",
    "print(track_ids)\n",
    "\n",
    "print(len(track_ids))"
   ]
  },
  {
   "cell_type": "code",
   "execution_count": 6,
   "metadata": {
    "id": "tpLOoQNNEJxA"
   },
   "outputs": [],
   "source": [
    "def getPlaylistFeatures(id):\n",
    "    track_info = sp.track(id)\n",
    "    playlist_info = sp.playlist(playlist_id)\n",
    "    features_info = sp.audio_features(id)\n",
    "\n",
    "    artist_name = track_info['album']['artists'][0]['name']\n",
    "    track_uri = id\n",
    "    artist_uri = track_info[\"artists\"][0][\"id\"]\n",
    "    track_name = track_info['name']\n",
    "    album_uri = track_info['album'][\"id\"]\n",
    "    duration_ms_x = track_info['duration_ms']\n",
    "    album_name = track_info['album']['name']\n",
    "    name = playlist_info['name'] #playlist name\n",
    "    \n",
    "    artist_info = sp.artist(artist_uri)\n",
    "    \n",
    "    danceability = features_info[0]['danceability']\n",
    "    energy = features_info[0]['energy']\n",
    "    key = features_info[0]['key']\n",
    "    loudness = features_info[0]['loudness']\n",
    "    mode = features_info[0]['mode']\n",
    "    speechiness = features_info[0]['speechiness']\n",
    "    acousticness = features_info[0]['acousticness']\n",
    "    instrumentalness = features_info[0]['instrumentalness']\n",
    "    liveness = features_info[0]['liveness']\n",
    "    valence = features_info[0]['valence']\n",
    "    tempo = features_info[0]['tempo']\n",
    "    type = features_info[0]['type']\n",
    "    id = id\n",
    "    uri = features_info[0]['uri'] #f\"spotify:track:{id}\"\n",
    "    track_href = f\"https://api.spotify.com/v1/tracks/{id}\"\n",
    "    analysis_url = f\"https://api.spotify.com/v1/audio-analysis/{id}\"\n",
    "    duration_ms_y = track_info['duration_ms']\n",
    "    time_signature = features_info[0]['time_signature']\n",
    "    artist_pop = sp.artist(artist_uri)['popularity']\n",
    "    genres = artist_info['genres']\n",
    "    track_pop = track_info['popularity']\n",
    "    artists_song = f\"{artist_name}{track_name}\"\n",
    "    \n",
    "    track_data = [artist_name, track_uri, artist_uri, track_name, album_uri, duration_ms_x, \n",
    "                  album_name, name, danceability, energy, key, loudness, mode, speechiness, \n",
    "                  acousticness, instrumentalness, liveness, valence, tempo, type, id, track_href, analysis_url, uri, duration_ms_y, \n",
    "                  time_signature, artist_pop, genres, track_pop, artists_song]\n",
    "    \n",
    "    return track_data"
   ]
  },
  {
   "cell_type": "code",
   "execution_count": 7,
   "metadata": {
    "id": "OHPQOE5zEUSv"
   },
   "outputs": [
    {
     "ename": "KeyboardInterrupt",
     "evalue": "",
     "output_type": "error",
     "traceback": [
      "\u001b[0;31m---------------------------------------------------------------------------\u001b[0m",
      "\u001b[0;31mKeyboardInterrupt\u001b[0m                         Traceback (most recent call last)",
      "Cell \u001b[0;32mIn[7], line 6\u001b[0m\n\u001b[1;32m      4\u001b[0m \u001b[38;5;28;01mfor\u001b[39;00m i \u001b[38;5;129;01min\u001b[39;00m \u001b[38;5;28mrange\u001b[39m(\u001b[38;5;28mlen\u001b[39m(track_ids)):\n\u001b[1;32m      5\u001b[0m     time\u001b[38;5;241m.\u001b[39msleep(\u001b[38;5;241m.3\u001b[39m)\n\u001b[0;32m----> 6\u001b[0m     track_data \u001b[38;5;241m=\u001b[39m \u001b[43mgetPlaylistFeatures\u001b[49m\u001b[43m(\u001b[49m\u001b[43mtrack_ids\u001b[49m\u001b[43m[\u001b[49m\u001b[43mi\u001b[49m\u001b[43m]\u001b[49m\u001b[43m)\u001b[49m\n\u001b[1;32m      7\u001b[0m     track_list\u001b[38;5;241m.\u001b[39mappend(track_data)\n\u001b[1;32m      9\u001b[0m tej_playlist \u001b[38;5;241m=\u001b[39m pd\u001b[38;5;241m.\u001b[39mDataFrame(track_list, columns \u001b[38;5;241m=\u001b[39m [\u001b[38;5;124m'\u001b[39m\u001b[38;5;124martist_name\u001b[39m\u001b[38;5;124m'\u001b[39m, \u001b[38;5;124m'\u001b[39m\u001b[38;5;124mtrack_uri\u001b[39m\u001b[38;5;124m'\u001b[39m, \u001b[38;5;124m'\u001b[39m\u001b[38;5;124martist_uri\u001b[39m\u001b[38;5;124m'\u001b[39m, \u001b[38;5;124m'\u001b[39m\u001b[38;5;124mtrack_name\u001b[39m\u001b[38;5;124m'\u001b[39m, \n\u001b[1;32m     10\u001b[0m                                                    \u001b[38;5;124m'\u001b[39m\u001b[38;5;124malbum_uri\u001b[39m\u001b[38;5;124m'\u001b[39m, \u001b[38;5;124m'\u001b[39m\u001b[38;5;124mduration_ms_x\u001b[39m\u001b[38;5;124m'\u001b[39m, \u001b[38;5;124m'\u001b[39m\u001b[38;5;124malbum_name\u001b[39m\u001b[38;5;124m'\u001b[39m, \u001b[38;5;124m'\u001b[39m\u001b[38;5;124mname\u001b[39m\u001b[38;5;124m'\u001b[39m, \u001b[38;5;124m'\u001b[39m\u001b[38;5;124mdanceability\u001b[39m\u001b[38;5;124m'\u001b[39m, \n\u001b[1;32m     11\u001b[0m                                                    \u001b[38;5;124m'\u001b[39m\u001b[38;5;124menergy\u001b[39m\u001b[38;5;124m'\u001b[39m, \u001b[38;5;124m'\u001b[39m\u001b[38;5;124mkey\u001b[39m\u001b[38;5;124m'\u001b[39m, \u001b[38;5;124m'\u001b[39m\u001b[38;5;124mloudness\u001b[39m\u001b[38;5;124m'\u001b[39m, \u001b[38;5;124m'\u001b[39m\u001b[38;5;124mmode\u001b[39m\u001b[38;5;124m'\u001b[39m, \u001b[38;5;124m'\u001b[39m\u001b[38;5;124mspeechiness\u001b[39m\u001b[38;5;124m'\u001b[39m, \u001b[38;5;124m'\u001b[39m\u001b[38;5;124macousticness\u001b[39m\u001b[38;5;124m'\u001b[39m, \n\u001b[1;32m     12\u001b[0m                                                    \u001b[38;5;124m'\u001b[39m\u001b[38;5;124minstrumentalness\u001b[39m\u001b[38;5;124m'\u001b[39m, \u001b[38;5;124m'\u001b[39m\u001b[38;5;124mliveness\u001b[39m\u001b[38;5;124m'\u001b[39m, \u001b[38;5;124m'\u001b[39m\u001b[38;5;124mvalence\u001b[39m\u001b[38;5;124m'\u001b[39m, \u001b[38;5;124m'\u001b[39m\u001b[38;5;124mtempo\u001b[39m\u001b[38;5;124m'\u001b[39m, \u001b[38;5;124m'\u001b[39m\u001b[38;5;124mtype\u001b[39m\u001b[38;5;124m'\u001b[39m, \u001b[38;5;124m'\u001b[39m\u001b[38;5;124mid\u001b[39m\u001b[38;5;124m'\u001b[39m, \n\u001b[1;32m     13\u001b[0m                                                    \u001b[38;5;124m'\u001b[39m\u001b[38;5;124mtrack_href\u001b[39m\u001b[38;5;124m'\u001b[39m, \u001b[38;5;124m'\u001b[39m\u001b[38;5;124manalysis_url\u001b[39m\u001b[38;5;124m'\u001b[39m, \u001b[38;5;124m'\u001b[39m\u001b[38;5;124muri\u001b[39m\u001b[38;5;124m'\u001b[39m, \u001b[38;5;124m'\u001b[39m\u001b[38;5;124mduration_ms_y\u001b[39m\u001b[38;5;124m'\u001b[39m, \u001b[38;5;124m'\u001b[39m\u001b[38;5;124mtime_signature\u001b[39m\u001b[38;5;124m'\u001b[39m, \n\u001b[1;32m     14\u001b[0m                                                    \u001b[38;5;124m'\u001b[39m\u001b[38;5;124martist_pop\u001b[39m\u001b[38;5;124m'\u001b[39m, \u001b[38;5;124m'\u001b[39m\u001b[38;5;124mgenres\u001b[39m\u001b[38;5;124m'\u001b[39m, \u001b[38;5;124m'\u001b[39m\u001b[38;5;124mtrack_pop\u001b[39m\u001b[38;5;124m'\u001b[39m, \u001b[38;5;124m'\u001b[39m\u001b[38;5;124martists_song\u001b[39m\u001b[38;5;124m'\u001b[39m])    \n",
      "Cell \u001b[0;32mIn[6], line 2\u001b[0m, in \u001b[0;36mgetPlaylistFeatures\u001b[0;34m(id)\u001b[0m\n\u001b[1;32m      1\u001b[0m \u001b[38;5;28;01mdef\u001b[39;00m \u001b[38;5;21mgetPlaylistFeatures\u001b[39m(\u001b[38;5;28mid\u001b[39m):\n\u001b[0;32m----> 2\u001b[0m     track_info \u001b[38;5;241m=\u001b[39m \u001b[43msp\u001b[49m\u001b[38;5;241;43m.\u001b[39;49m\u001b[43mtrack\u001b[49m\u001b[43m(\u001b[49m\u001b[38;5;28;43mid\u001b[39;49m\u001b[43m)\u001b[49m\n\u001b[1;32m      3\u001b[0m     playlist_info \u001b[38;5;241m=\u001b[39m sp\u001b[38;5;241m.\u001b[39mplaylist(playlist_id)\n\u001b[1;32m      4\u001b[0m     features_info \u001b[38;5;241m=\u001b[39m sp\u001b[38;5;241m.\u001b[39maudio_features(\u001b[38;5;28mid\u001b[39m)\n",
      "File \u001b[0;32m/usr/local/lib/python3.10/site-packages/spotipy/client.py:369\u001b[0m, in \u001b[0;36mSpotify.track\u001b[0;34m(self, track_id, market)\u001b[0m\n\u001b[1;32m    361\u001b[0m \u001b[38;5;124;03m\"\"\" returns a single track given the track's ID, URI or URL\u001b[39;00m\n\u001b[1;32m    362\u001b[0m \n\u001b[1;32m    363\u001b[0m \u001b[38;5;124;03m    Parameters:\u001b[39;00m\n\u001b[1;32m    364\u001b[0m \u001b[38;5;124;03m        - track_id - a spotify URI, URL or ID\u001b[39;00m\n\u001b[1;32m    365\u001b[0m \u001b[38;5;124;03m        - market - an ISO 3166-1 alpha-2 country code.\u001b[39;00m\n\u001b[1;32m    366\u001b[0m \u001b[38;5;124;03m\"\"\"\u001b[39;00m\n\u001b[1;32m    368\u001b[0m trid \u001b[38;5;241m=\u001b[39m \u001b[38;5;28mself\u001b[39m\u001b[38;5;241m.\u001b[39m_get_id(\u001b[38;5;124m\"\u001b[39m\u001b[38;5;124mtrack\u001b[39m\u001b[38;5;124m\"\u001b[39m, track_id)\n\u001b[0;32m--> 369\u001b[0m \u001b[38;5;28;01mreturn\u001b[39;00m \u001b[38;5;28;43mself\u001b[39;49m\u001b[38;5;241;43m.\u001b[39;49m\u001b[43m_get\u001b[49m\u001b[43m(\u001b[49m\u001b[38;5;124;43m\"\u001b[39;49m\u001b[38;5;124;43mtracks/\u001b[39;49m\u001b[38;5;124;43m\"\u001b[39;49m\u001b[43m \u001b[49m\u001b[38;5;241;43m+\u001b[39;49m\u001b[43m \u001b[49m\u001b[43mtrid\u001b[49m\u001b[43m,\u001b[49m\u001b[43m \u001b[49m\u001b[43mmarket\u001b[49m\u001b[38;5;241;43m=\u001b[39;49m\u001b[43mmarket\u001b[49m\u001b[43m)\u001b[49m\n",
      "File \u001b[0;32m/usr/local/lib/python3.10/site-packages/spotipy/client.py:321\u001b[0m, in \u001b[0;36mSpotify._get\u001b[0;34m(self, url, args, payload, **kwargs)\u001b[0m\n\u001b[1;32m    318\u001b[0m \u001b[38;5;28;01mif\u001b[39;00m args:\n\u001b[1;32m    319\u001b[0m     kwargs\u001b[38;5;241m.\u001b[39mupdate(args)\n\u001b[0;32m--> 321\u001b[0m \u001b[38;5;28;01mreturn\u001b[39;00m \u001b[38;5;28;43mself\u001b[39;49m\u001b[38;5;241;43m.\u001b[39;49m\u001b[43m_internal_call\u001b[49m\u001b[43m(\u001b[49m\u001b[38;5;124;43m\"\u001b[39;49m\u001b[38;5;124;43mGET\u001b[39;49m\u001b[38;5;124;43m\"\u001b[39;49m\u001b[43m,\u001b[49m\u001b[43m \u001b[49m\u001b[43murl\u001b[49m\u001b[43m,\u001b[49m\u001b[43m \u001b[49m\u001b[43mpayload\u001b[49m\u001b[43m,\u001b[49m\u001b[43m \u001b[49m\u001b[43mkwargs\u001b[49m\u001b[43m)\u001b[49m\n",
      "File \u001b[0;32m/usr/local/lib/python3.10/site-packages/spotipy/client.py:264\u001b[0m, in \u001b[0;36mSpotify._internal_call\u001b[0;34m(self, method, url, payload, params)\u001b[0m\n\u001b[1;32m    260\u001b[0m logger\u001b[38;5;241m.\u001b[39mdebug(\u001b[38;5;124m'\u001b[39m\u001b[38;5;124mSending \u001b[39m\u001b[38;5;132;01m%s\u001b[39;00m\u001b[38;5;124m to \u001b[39m\u001b[38;5;132;01m%s\u001b[39;00m\u001b[38;5;124m with Params: \u001b[39m\u001b[38;5;132;01m%s\u001b[39;00m\u001b[38;5;124m Headers: \u001b[39m\u001b[38;5;132;01m%s\u001b[39;00m\u001b[38;5;124m and Body: \u001b[39m\u001b[38;5;132;01m%r\u001b[39;00m\u001b[38;5;124m \u001b[39m\u001b[38;5;124m'\u001b[39m,\n\u001b[1;32m    261\u001b[0m              method, url, args\u001b[38;5;241m.\u001b[39mget(\u001b[38;5;124m\"\u001b[39m\u001b[38;5;124mparams\u001b[39m\u001b[38;5;124m\"\u001b[39m), headers, args\u001b[38;5;241m.\u001b[39mget(\u001b[38;5;124m'\u001b[39m\u001b[38;5;124mdata\u001b[39m\u001b[38;5;124m'\u001b[39m))\n\u001b[1;32m    263\u001b[0m \u001b[38;5;28;01mtry\u001b[39;00m:\n\u001b[0;32m--> 264\u001b[0m     response \u001b[38;5;241m=\u001b[39m \u001b[38;5;28;43mself\u001b[39;49m\u001b[38;5;241;43m.\u001b[39;49m\u001b[43m_session\u001b[49m\u001b[38;5;241;43m.\u001b[39;49m\u001b[43mrequest\u001b[49m\u001b[43m(\u001b[49m\n\u001b[1;32m    265\u001b[0m \u001b[43m        \u001b[49m\u001b[43mmethod\u001b[49m\u001b[43m,\u001b[49m\u001b[43m \u001b[49m\u001b[43murl\u001b[49m\u001b[43m,\u001b[49m\u001b[43m \u001b[49m\u001b[43mheaders\u001b[49m\u001b[38;5;241;43m=\u001b[39;49m\u001b[43mheaders\u001b[49m\u001b[43m,\u001b[49m\u001b[43m \u001b[49m\u001b[43mproxies\u001b[49m\u001b[38;5;241;43m=\u001b[39;49m\u001b[38;5;28;43mself\u001b[39;49m\u001b[38;5;241;43m.\u001b[39;49m\u001b[43mproxies\u001b[49m\u001b[43m,\u001b[49m\n\u001b[1;32m    266\u001b[0m \u001b[43m        \u001b[49m\u001b[43mtimeout\u001b[49m\u001b[38;5;241;43m=\u001b[39;49m\u001b[38;5;28;43mself\u001b[39;49m\u001b[38;5;241;43m.\u001b[39;49m\u001b[43mrequests_timeout\u001b[49m\u001b[43m,\u001b[49m\u001b[43m \u001b[49m\u001b[38;5;241;43m*\u001b[39;49m\u001b[38;5;241;43m*\u001b[39;49m\u001b[43margs\u001b[49m\n\u001b[1;32m    267\u001b[0m \u001b[43m    \u001b[49m\u001b[43m)\u001b[49m\n\u001b[1;32m    269\u001b[0m     response\u001b[38;5;241m.\u001b[39mraise_for_status()\n\u001b[1;32m    270\u001b[0m     results \u001b[38;5;241m=\u001b[39m response\u001b[38;5;241m.\u001b[39mjson()\n",
      "File \u001b[0;32m/usr/local/Cellar/jupyterlab/3.4.8/libexec/lib/python3.10/site-packages/requests/sessions.py:587\u001b[0m, in \u001b[0;36mSession.request\u001b[0;34m(self, method, url, params, data, headers, cookies, files, auth, timeout, allow_redirects, proxies, hooks, stream, verify, cert, json)\u001b[0m\n\u001b[1;32m    582\u001b[0m send_kwargs \u001b[38;5;241m=\u001b[39m {\n\u001b[1;32m    583\u001b[0m     \u001b[38;5;124m\"\u001b[39m\u001b[38;5;124mtimeout\u001b[39m\u001b[38;5;124m\"\u001b[39m: timeout,\n\u001b[1;32m    584\u001b[0m     \u001b[38;5;124m\"\u001b[39m\u001b[38;5;124mallow_redirects\u001b[39m\u001b[38;5;124m\"\u001b[39m: allow_redirects,\n\u001b[1;32m    585\u001b[0m }\n\u001b[1;32m    586\u001b[0m send_kwargs\u001b[38;5;241m.\u001b[39mupdate(settings)\n\u001b[0;32m--> 587\u001b[0m resp \u001b[38;5;241m=\u001b[39m \u001b[38;5;28;43mself\u001b[39;49m\u001b[38;5;241;43m.\u001b[39;49m\u001b[43msend\u001b[49m\u001b[43m(\u001b[49m\u001b[43mprep\u001b[49m\u001b[43m,\u001b[49m\u001b[43m \u001b[49m\u001b[38;5;241;43m*\u001b[39;49m\u001b[38;5;241;43m*\u001b[39;49m\u001b[43msend_kwargs\u001b[49m\u001b[43m)\u001b[49m\n\u001b[1;32m    589\u001b[0m \u001b[38;5;28;01mreturn\u001b[39;00m resp\n",
      "File \u001b[0;32m/usr/local/Cellar/jupyterlab/3.4.8/libexec/lib/python3.10/site-packages/requests/sessions.py:701\u001b[0m, in \u001b[0;36mSession.send\u001b[0;34m(self, request, **kwargs)\u001b[0m\n\u001b[1;32m    698\u001b[0m start \u001b[38;5;241m=\u001b[39m preferred_clock()\n\u001b[1;32m    700\u001b[0m \u001b[38;5;66;03m# Send the request\u001b[39;00m\n\u001b[0;32m--> 701\u001b[0m r \u001b[38;5;241m=\u001b[39m \u001b[43madapter\u001b[49m\u001b[38;5;241;43m.\u001b[39;49m\u001b[43msend\u001b[49m\u001b[43m(\u001b[49m\u001b[43mrequest\u001b[49m\u001b[43m,\u001b[49m\u001b[43m \u001b[49m\u001b[38;5;241;43m*\u001b[39;49m\u001b[38;5;241;43m*\u001b[39;49m\u001b[43mkwargs\u001b[49m\u001b[43m)\u001b[49m\n\u001b[1;32m    703\u001b[0m \u001b[38;5;66;03m# Total elapsed time of the request (approximately)\u001b[39;00m\n\u001b[1;32m    704\u001b[0m elapsed \u001b[38;5;241m=\u001b[39m preferred_clock() \u001b[38;5;241m-\u001b[39m start\n",
      "File \u001b[0;32m/usr/local/Cellar/jupyterlab/3.4.8/libexec/lib/python3.10/site-packages/requests/adapters.py:489\u001b[0m, in \u001b[0;36mHTTPAdapter.send\u001b[0;34m(self, request, stream, timeout, verify, cert, proxies)\u001b[0m\n\u001b[1;32m    487\u001b[0m \u001b[38;5;28;01mtry\u001b[39;00m:\n\u001b[1;32m    488\u001b[0m     \u001b[38;5;28;01mif\u001b[39;00m \u001b[38;5;129;01mnot\u001b[39;00m chunked:\n\u001b[0;32m--> 489\u001b[0m         resp \u001b[38;5;241m=\u001b[39m \u001b[43mconn\u001b[49m\u001b[38;5;241;43m.\u001b[39;49m\u001b[43murlopen\u001b[49m\u001b[43m(\u001b[49m\n\u001b[1;32m    490\u001b[0m \u001b[43m            \u001b[49m\u001b[43mmethod\u001b[49m\u001b[38;5;241;43m=\u001b[39;49m\u001b[43mrequest\u001b[49m\u001b[38;5;241;43m.\u001b[39;49m\u001b[43mmethod\u001b[49m\u001b[43m,\u001b[49m\n\u001b[1;32m    491\u001b[0m \u001b[43m            \u001b[49m\u001b[43murl\u001b[49m\u001b[38;5;241;43m=\u001b[39;49m\u001b[43murl\u001b[49m\u001b[43m,\u001b[49m\n\u001b[1;32m    492\u001b[0m \u001b[43m            \u001b[49m\u001b[43mbody\u001b[49m\u001b[38;5;241;43m=\u001b[39;49m\u001b[43mrequest\u001b[49m\u001b[38;5;241;43m.\u001b[39;49m\u001b[43mbody\u001b[49m\u001b[43m,\u001b[49m\n\u001b[1;32m    493\u001b[0m \u001b[43m            \u001b[49m\u001b[43mheaders\u001b[49m\u001b[38;5;241;43m=\u001b[39;49m\u001b[43mrequest\u001b[49m\u001b[38;5;241;43m.\u001b[39;49m\u001b[43mheaders\u001b[49m\u001b[43m,\u001b[49m\n\u001b[1;32m    494\u001b[0m \u001b[43m            \u001b[49m\u001b[43mredirect\u001b[49m\u001b[38;5;241;43m=\u001b[39;49m\u001b[38;5;28;43;01mFalse\u001b[39;49;00m\u001b[43m,\u001b[49m\n\u001b[1;32m    495\u001b[0m \u001b[43m            \u001b[49m\u001b[43massert_same_host\u001b[49m\u001b[38;5;241;43m=\u001b[39;49m\u001b[38;5;28;43;01mFalse\u001b[39;49;00m\u001b[43m,\u001b[49m\n\u001b[1;32m    496\u001b[0m \u001b[43m            \u001b[49m\u001b[43mpreload_content\u001b[49m\u001b[38;5;241;43m=\u001b[39;49m\u001b[38;5;28;43;01mFalse\u001b[39;49;00m\u001b[43m,\u001b[49m\n\u001b[1;32m    497\u001b[0m \u001b[43m            \u001b[49m\u001b[43mdecode_content\u001b[49m\u001b[38;5;241;43m=\u001b[39;49m\u001b[38;5;28;43;01mFalse\u001b[39;49;00m\u001b[43m,\u001b[49m\n\u001b[1;32m    498\u001b[0m \u001b[43m            \u001b[49m\u001b[43mretries\u001b[49m\u001b[38;5;241;43m=\u001b[39;49m\u001b[38;5;28;43mself\u001b[39;49m\u001b[38;5;241;43m.\u001b[39;49m\u001b[43mmax_retries\u001b[49m\u001b[43m,\u001b[49m\n\u001b[1;32m    499\u001b[0m \u001b[43m            \u001b[49m\u001b[43mtimeout\u001b[49m\u001b[38;5;241;43m=\u001b[39;49m\u001b[43mtimeout\u001b[49m\u001b[43m,\u001b[49m\n\u001b[1;32m    500\u001b[0m \u001b[43m        \u001b[49m\u001b[43m)\u001b[49m\n\u001b[1;32m    502\u001b[0m     \u001b[38;5;66;03m# Send the request.\u001b[39;00m\n\u001b[1;32m    503\u001b[0m     \u001b[38;5;28;01melse\u001b[39;00m:\n\u001b[1;32m    504\u001b[0m         \u001b[38;5;28;01mif\u001b[39;00m \u001b[38;5;28mhasattr\u001b[39m(conn, \u001b[38;5;124m\"\u001b[39m\u001b[38;5;124mproxy_pool\u001b[39m\u001b[38;5;124m\"\u001b[39m):\n",
      "File \u001b[0;32m/usr/local/Cellar/jupyterlab/3.4.8/libexec/lib/python3.10/site-packages/urllib3/connectionpool.py:876\u001b[0m, in \u001b[0;36mHTTPConnectionPool.urlopen\u001b[0;34m(self, method, url, body, headers, retries, redirect, assert_same_host, timeout, pool_timeout, release_conn, chunked, body_pos, **response_kw)\u001b[0m\n\u001b[1;32m    873\u001b[0m     \u001b[38;5;28;01mreturn\u001b[39;00m response\n\u001b[1;32m    875\u001b[0m response\u001b[38;5;241m.\u001b[39mdrain_conn()\n\u001b[0;32m--> 876\u001b[0m \u001b[43mretries\u001b[49m\u001b[38;5;241;43m.\u001b[39;49m\u001b[43msleep\u001b[49m\u001b[43m(\u001b[49m\u001b[43mresponse\u001b[49m\u001b[43m)\u001b[49m\n\u001b[1;32m    877\u001b[0m log\u001b[38;5;241m.\u001b[39mdebug(\u001b[38;5;124m\"\u001b[39m\u001b[38;5;124mRetry: \u001b[39m\u001b[38;5;132;01m%s\u001b[39;00m\u001b[38;5;124m\"\u001b[39m, url)\n\u001b[1;32m    878\u001b[0m \u001b[38;5;28;01mreturn\u001b[39;00m \u001b[38;5;28mself\u001b[39m\u001b[38;5;241m.\u001b[39murlopen(\n\u001b[1;32m    879\u001b[0m     method,\n\u001b[1;32m    880\u001b[0m     url,\n\u001b[0;32m   (...)\u001b[0m\n\u001b[1;32m    891\u001b[0m     \u001b[38;5;241m*\u001b[39m\u001b[38;5;241m*\u001b[39mresponse_kw\n\u001b[1;32m    892\u001b[0m )\n",
      "File \u001b[0;32m/usr/local/Cellar/jupyterlab/3.4.8/libexec/lib/python3.10/site-packages/urllib3/util/retry.py:428\u001b[0m, in \u001b[0;36mRetry.sleep\u001b[0;34m(self, response)\u001b[0m\n\u001b[1;32m    419\u001b[0m \u001b[38;5;124;03m\"\"\"Sleep between retry attempts.\u001b[39;00m\n\u001b[1;32m    420\u001b[0m \n\u001b[1;32m    421\u001b[0m \u001b[38;5;124;03mThis method will respect a server's ``Retry-After`` response header\u001b[39;00m\n\u001b[0;32m   (...)\u001b[0m\n\u001b[1;32m    424\u001b[0m \u001b[38;5;124;03mthis method will return immediately.\u001b[39;00m\n\u001b[1;32m    425\u001b[0m \u001b[38;5;124;03m\"\"\"\u001b[39;00m\n\u001b[1;32m    427\u001b[0m \u001b[38;5;28;01mif\u001b[39;00m \u001b[38;5;28mself\u001b[39m\u001b[38;5;241m.\u001b[39mrespect_retry_after_header \u001b[38;5;129;01mand\u001b[39;00m response:\n\u001b[0;32m--> 428\u001b[0m     slept \u001b[38;5;241m=\u001b[39m \u001b[38;5;28;43mself\u001b[39;49m\u001b[38;5;241;43m.\u001b[39;49m\u001b[43msleep_for_retry\u001b[49m\u001b[43m(\u001b[49m\u001b[43mresponse\u001b[49m\u001b[43m)\u001b[49m\n\u001b[1;32m    429\u001b[0m     \u001b[38;5;28;01mif\u001b[39;00m slept:\n\u001b[1;32m    430\u001b[0m         \u001b[38;5;28;01mreturn\u001b[39;00m\n",
      "File \u001b[0;32m/usr/local/Cellar/jupyterlab/3.4.8/libexec/lib/python3.10/site-packages/urllib3/util/retry.py:407\u001b[0m, in \u001b[0;36mRetry.sleep_for_retry\u001b[0;34m(self, response)\u001b[0m\n\u001b[1;32m    405\u001b[0m retry_after \u001b[38;5;241m=\u001b[39m \u001b[38;5;28mself\u001b[39m\u001b[38;5;241m.\u001b[39mget_retry_after(response)\n\u001b[1;32m    406\u001b[0m \u001b[38;5;28;01mif\u001b[39;00m retry_after:\n\u001b[0;32m--> 407\u001b[0m     \u001b[43mtime\u001b[49m\u001b[38;5;241;43m.\u001b[39;49m\u001b[43msleep\u001b[49m\u001b[43m(\u001b[49m\u001b[43mretry_after\u001b[49m\u001b[43m)\u001b[49m\n\u001b[1;32m    408\u001b[0m     \u001b[38;5;28;01mreturn\u001b[39;00m \u001b[38;5;28;01mTrue\u001b[39;00m\n\u001b[1;32m    410\u001b[0m \u001b[38;5;28;01mreturn\u001b[39;00m \u001b[38;5;28;01mFalse\u001b[39;00m\n",
      "\u001b[0;31mKeyboardInterrupt\u001b[0m: "
     ]
    }
   ],
   "source": [
    "#code used for extracting data for training playlist\n",
    "\n",
    "track_list = []\n",
    "for i in range(len(track_ids)):\n",
    "    time.sleep(.3)\n",
    "    track_data = getPlaylistFeatures(track_ids[i])\n",
    "    track_list.append(track_data)\n",
    "\n",
    "tej_playlist = pd.DataFrame(track_list, columns = ['artist_name', 'track_uri', 'artist_uri', 'track_name', \n",
    "                                                   'album_uri', 'duration_ms_x', 'album_name', 'name', 'danceability', \n",
    "                                                   'energy', 'key', 'loudness', 'mode', 'speechiness', 'acousticness', \n",
    "                                                   'instrumentalness', 'liveness', 'valence', 'tempo', 'type', 'id', \n",
    "                                                   'track_href', 'analysis_url', 'uri', 'duration_ms_y', 'time_signature', \n",
    "                                                   'artist_pop', 'genres', 'track_pop', 'artists_song'])    \n",
    "\n",
    "tej_playlist['pos'] = tej_playlist.index\n",
    "tej_playlist = tej_playlist.reindex(columns = ['pos', 'artist_name', 'track_uri', 'artist_uri', 'track_name', \n",
    "                                               'album_uri', 'duration_ms_x', 'album_name', 'name', 'danceability', \n",
    "                                               'energy', 'key', 'loudness', 'mode', 'speechiness', 'acousticness', \n",
    "                                               'instrumentalness', 'liveness', 'valence', 'tempo', 'type', 'id', \n",
    "                                               'track_href', 'analysis_url', 'uri', 'duration_ms_y', 'time_signature', \n",
    "                                               'artist_pop', 'genres', 'track_pop', 'artists_song'])\n",
    "\n",
    "tej_playlist.to_csv(\"tejPlaylist.csv\")\n"
   ]
  },
  {
   "cell_type": "code",
   "execution_count": null,
   "metadata": {
    "id": "BND-O2vGn6EB"
   },
   "outputs": [],
   "source": [
    "tej_playlist.head()"
   ]
  },
  {
   "cell_type": "code",
   "execution_count": null,
   "metadata": {
    "id": "YBpTorCBEc31"
   },
   "outputs": [],
   "source": [
    "tej_playlist.shape"
   ]
  },
  {
   "cell_type": "markdown",
   "metadata": {
    "id": "GLxBGMqX3W4P"
   },
   "source": [
    "##### Importing Libraries for Recommendation System"
   ]
  },
  {
   "cell_type": "code",
   "execution_count": null,
   "metadata": {
    "id": "w8y4yQ5KF6L9"
   },
   "outputs": [],
   "source": [
    "import pandas as pd\n",
    "from sklearn.metrics.pairwise import cosine_similarity\n",
    "from sklearn.preprocessing import MinMaxScaler\n",
    "from sklearn.feature_extraction.text import TfidfVectorizer\n",
    "from textblob import TextBlob\n",
    "import re"
   ]
  },
  {
   "cell_type": "markdown",
   "metadata": {
    "id": "CsMiwtKa3fkO"
   },
   "source": [
    "##### Importing Training Playlist Dataframe"
   ]
  },
  {
   "cell_type": "code",
   "execution_count": null,
   "metadata": {
    "colab": {
     "base_uri": "https://localhost:8080/",
     "height": 688
    },
    "id": "IfEEADCCF9_V",
    "outputId": "c826d0a0-1d06-42e9-e595-46218cc25671"
   },
   "outputs": [],
   "source": [
    "playlistDF = pd.read_csv(\"tejPlaylist.csv\")\n",
    "print(playlistDF.columns)\n",
    "playlistDF.drop(columns=[\"Unnamed: 0\"], inplace = True) #,'Unnamed: 0.1'\n",
    "playlistDF.head()"
   ]
  },
  {
   "cell_type": "code",
   "execution_count": null,
   "metadata": {
    "colab": {
     "base_uri": "https://localhost:8080/"
    },
    "id": "vx6qzzCbGExN",
    "outputId": "010d1ee5-6bc1-4892-c629-2b1e883c188d"
   },
   "outputs": [],
   "source": [
    "playlistDF.shape"
   ]
  },
  {
   "cell_type": "code",
   "execution_count": null,
   "metadata": {
    "colab": {
     "base_uri": "https://localhost:8080/",
     "height": 419
    },
    "id": "ROjfH4d_GdwB",
    "outputId": "0f52119d-05bf-4d3c-d207-c83d43682a29"
   },
   "outputs": [],
   "source": [
    "playlistDF[['artist_name','track_name','name']]"
   ]
  },
  {
   "cell_type": "markdown",
   "metadata": {
    "id": "xw1oDHoq3uX5"
   },
   "source": [
    "##### Handling Duplicates"
   ]
  },
  {
   "cell_type": "code",
   "execution_count": null,
   "metadata": {
    "colab": {
     "base_uri": "https://localhost:8080/"
    },
    "id": "cC9DONAXGhn1",
    "outputId": "432adc21-4350-492d-f3fc-82943fd116ce"
   },
   "outputs": [],
   "source": [
    "def drop_duplicates(df):\n",
    "\n",
    "    df['artists_song'] = df.apply(lambda row: row['artist_name']+row['track_name'],axis = 1)\n",
    "    return df.drop_duplicates('artists_song')\n",
    "\n",
    "songDF = drop_duplicates(playlistDF)\n",
    "print(\"Are all songs unique: \",len(pd.unique(songDF.artists_song))==len(songDF))"
   ]
  },
  {
   "cell_type": "markdown",
   "metadata": {
    "id": "4J5BZ64m3-Xd"
   },
   "source": [
    "##### Selecting Required Columns"
   ]
  },
  {
   "cell_type": "code",
   "execution_count": null,
   "metadata": {
    "colab": {
     "base_uri": "https://localhost:8080/",
     "height": 540
    },
    "id": "Q7NOyg13GpP6",
    "outputId": "767cd34d-563e-4908-c3a5-2d22bab7a8e2"
   },
   "outputs": [],
   "source": [
    "def select_cols(df):\n",
    "\n",
    "       return df[['artist_name','id','track_name','danceability', 'energy', 'key', 'loudness', 'mode',\n",
    "       'speechiness', 'acousticness', 'instrumentalness', 'liveness', 'valence', 'tempo', \"artist_pop\", \"genres\", \"track_pop\"]]\n",
    "       \n",
    "songDF = select_cols(songDF)\n",
    "songDF.head()"
   ]
  },
  {
   "cell_type": "markdown",
   "metadata": {
    "id": "WcTlUBWB4F-M"
   },
   "source": [
    "##### Converting Genres back into a List format"
   ]
  },
  {
   "cell_type": "code",
   "execution_count": null,
   "metadata": {
    "colab": {
     "base_uri": "https://localhost:8080/"
    },
    "id": "0w_pZvz_GtcS",
    "outputId": "177cfb9b-6dd7-48b1-e585-3ff0cfcc4449"
   },
   "outputs": [],
   "source": [
    "def genre_preprocess(df):\n",
    "  \n",
    "    df['genres_list'] = df['genres'].apply(lambda x: x.split(\" \"))\n",
    "    return df\n",
    "    \n",
    "songDF = genre_preprocess(songDF)\n",
    "songDF['genres_list'].head()"
   ]
  },
  {
   "cell_type": "markdown",
   "metadata": {
    "id": "9dOIeJzr4QQW"
   },
   "source": [
    "##### Combined Playlist Preprocessing Function"
   ]
  },
  {
   "cell_type": "code",
   "execution_count": null,
   "metadata": {
    "id": "c7W5nY9WGyi3"
   },
   "outputs": [],
   "source": [
    "def playlist_preprocess(df):\n",
    "\n",
    "    df = drop_duplicates(df)\n",
    "    df = select_cols(df)\n",
    "    df = genre_preprocess(df)\n",
    "\n",
    "    return df"
   ]
  },
  {
   "cell_type": "markdown",
   "metadata": {
    "id": "h4r9ktAf5bx-"
   },
   "source": [
    "# **Feature Generation**"
   ]
  },
  {
   "cell_type": "markdown",
   "metadata": {
    "id": "lPDM8Rr94mBc"
   },
   "source": [
    "##### Sentiment Analysis using TextBlob"
   ]
  },
  {
   "cell_type": "code",
   "execution_count": null,
   "metadata": {
    "id": "-7WZt2NpG3tQ"
   },
   "outputs": [],
   "source": [
    "def getSubjectivity(text):\n",
    "  return TextBlob(text).sentiment.subjectivity\n",
    "\n",
    "def getPolarity(text):\n",
    "  return TextBlob(text).sentiment.polarity\n",
    "\n",
    "def getAnalysis(score, task=\"polarity\"):\n",
    "  if task == \"subjectivity\":\n",
    "    if score < 1/3:\n",
    "      return \"low\"\n",
    "    elif score > 1/3:\n",
    "      return \"high\"\n",
    "    else:\n",
    "      return \"medium\"\n",
    "  else:\n",
    "    if score < 0:\n",
    "      return 'Negative'\n",
    "    elif score == 0:\n",
    "      return 'Neutral'\n",
    "    else:\n",
    "      return 'Positive'\n",
    "\n",
    "def sentiment_analysis(df, text_col):\n",
    "  df['subjectivity'] = df[text_col].apply(getSubjectivity).apply(lambda x: getAnalysis(x,\"subjectivity\"))\n",
    "  df['polarity'] = df[text_col].apply(getPolarity).apply(getAnalysis)\n",
    "  return df"
   ]
  },
  {
   "cell_type": "code",
   "execution_count": null,
   "metadata": {
    "colab": {
     "base_uri": "https://localhost:8080/",
     "height": 540
    },
    "id": "ArZd9Zf3G9Rq",
    "outputId": "ff9df07a-5c82-41c8-afc5-4af025a17053"
   },
   "outputs": [],
   "source": [
    "sentiment = sentiment_analysis(songDF, \"track_name\")\n",
    "sentiment.head()"
   ]
  },
  {
   "cell_type": "markdown",
   "metadata": {
    "id": "_fK2FfmZ43DG"
   },
   "source": [
    "##### One-Hot Encoding to make the dataframe Machine-Readable\n",
    "\n"
   ]
  },
  {
   "cell_type": "code",
   "execution_count": null,
   "metadata": {
    "id": "ZjyX5EoJHASe"
   },
   "outputs": [],
   "source": [
    "def ohe_prep(df, column, new_name): \n",
    "    tf_df = pd.get_dummies(df[column])\n",
    "    feature_names = tf_df.columns\n",
    "    tf_df.columns = [new_name + \"|\" + str(i) for i in feature_names]\n",
    "    tf_df.reset_index(drop = True, inplace = True)    \n",
    "    return tf_df"
   ]
  },
  {
   "cell_type": "code",
   "execution_count": null,
   "metadata": {
    "colab": {
     "base_uri": "https://localhost:8080/"
    },
    "id": "ETQ6gN0PHFfj",
    "outputId": "d1139463-0193-4a68-8b8a-69944b14b415"
   },
   "outputs": [],
   "source": [
    "# One-hot encoding for the subjectivity \n",
    "subject_ohe = ohe_prep(sentiment, 'subjectivity','subject')\n",
    "subject_ohe.iloc[0]"
   ]
  },
  {
   "cell_type": "markdown",
   "metadata": {
    "id": "ESwMXJFH6JwG"
   },
   "source": [
    "##### Finding importance of genres using TF-IDF"
   ]
  },
  {
   "cell_type": "code",
   "execution_count": null,
   "metadata": {
    "colab": {
     "base_uri": "https://localhost:8080/"
    },
    "id": "aw5rOA3kHI_g",
    "outputId": "3a4c6b00-fae5-4ded-b4b5-97fce471165f"
   },
   "outputs": [],
   "source": [
    "tfidf = TfidfVectorizer()\n",
    "tfidf_matrix =  tfidf.fit_transform(songDF['genres_list'].apply(lambda x: \" \".join(x)))\n",
    "genre_df = pd.DataFrame(tfidf_matrix.toarray())\n",
    "genre_df.columns = ['genre' + \"|\" + i for i in tfidf.get_feature_names_out()]\n",
    "# genre_df.drop(columns='genre|unknown')\n",
    "genre_df.reset_index(drop = True, inplace=True)\n",
    "genre_df.iloc[0]"
   ]
  },
  {
   "cell_type": "markdown",
   "metadata": {
    "id": "RFCiqKOK6bfg"
   },
   "source": [
    "##### Normalisation"
   ]
  },
  {
   "cell_type": "code",
   "execution_count": null,
   "metadata": {
    "colab": {
     "base_uri": "https://localhost:8080/"
    },
    "id": "TwEFoHZkIac_",
    "outputId": "cfb61581-9858-4112-92e7-62177e1881cc"
   },
   "outputs": [],
   "source": [
    "print(songDF['artist_pop'].describe())"
   ]
  },
  {
   "cell_type": "code",
   "execution_count": null,
   "metadata": {
    "colab": {
     "base_uri": "https://localhost:8080/",
     "height": 204
    },
    "id": "4Ry9hASnIlHm",
    "outputId": "d24b144f-1412-4bf7-9a86-de0850abcf9d"
   },
   "outputs": [],
   "source": [
    "pop = songDF[[\"artist_pop\"]].reset_index(drop = True)\n",
    "scaler = MinMaxScaler()\n",
    "pop_scaled = pd.DataFrame(scaler.fit_transform(pop), columns = pop.columns)\n",
    "pop_scaled.head()"
   ]
  },
  {
   "cell_type": "markdown",
   "metadata": {
    "id": "6IHmDFWm6mS1"
   },
   "source": [
    "##### Combine all generated features into a new dataframe"
   ]
  },
  {
   "cell_type": "code",
   "execution_count": null,
   "metadata": {
    "id": "-68dbzjPIpxS"
   },
   "outputs": [],
   "source": [
    "def create_feature_set(df, float_cols):\n",
    "\n",
    "    # Tfidf genre lists\n",
    "    tfidf = TfidfVectorizer()\n",
    "    tfidf_matrix =  tfidf.fit_transform(df['genres_list'].apply(lambda x: \" \".join(x)))\n",
    "    genre_df = pd.DataFrame(tfidf_matrix.toarray())\n",
    "    genre_df.columns = ['genre' + \"|\" + i for i in tfidf.get_feature_names_out()]\n",
    "    # genre_df.drop(columns='genre|unknown') # drop unknown genre\n",
    "    genre_df.reset_index(drop = True, inplace=True)\n",
    "    \n",
    "    # Sentiment analysis\n",
    "    df = sentiment_analysis(df, \"track_name\")\n",
    "\n",
    "    # One-hot Encoding\n",
    "    subject_ohe = ohe_prep(df, 'subjectivity','subject') * 0.3\n",
    "    polar_ohe = ohe_prep(df, 'polarity','polar') * 0.5\n",
    "    key_ohe = ohe_prep(df, 'key','key') * 0.5\n",
    "    mode_ohe = ohe_prep(df, 'mode','mode') * 0.5\n",
    "\n",
    "    # Normalization\n",
    "    # Scale popularity columns\n",
    "    pop = df[[\"artist_pop\",\"track_pop\"]].reset_index(drop = True)\n",
    "    scaler = MinMaxScaler()\n",
    "    pop_scaled = pd.DataFrame(scaler.fit_transform(pop), columns = pop.columns) * 0.2 \n",
    "\n",
    "    # Scale audio columns\n",
    "    floats = df[float_cols].reset_index(drop = True)\n",
    "    scaler = MinMaxScaler()\n",
    "    floats_scaled = pd.DataFrame(scaler.fit_transform(floats), columns = floats.columns) * 0.2\n",
    "\n",
    "    # Concanenate all features\n",
    "    final = pd.concat([genre_df, floats_scaled, pop_scaled, subject_ohe, polar_ohe, key_ohe, mode_ohe], axis = 1)\n",
    "    \n",
    "    # Add song id\n",
    "    final['id']=df['id'].values\n",
    "    \n",
    "    return final"
   ]
  },
  {
   "cell_type": "code",
   "execution_count": null,
   "metadata": {
    "colab": {
     "base_uri": "https://localhost:8080/",
     "height": 297
    },
    "id": "1kyksms1ItdW",
    "outputId": "65cab82b-de8e-4e0c-9ad7-6c2a55762ff4"
   },
   "outputs": [],
   "source": [
    "# Save the data and generate the features\n",
    "float_cols = songDF.dtypes[songDF.dtypes == 'float64'].index.values\n",
    "songDF.to_csv(\"allsong_data.csv\", index = False)\n",
    "\n",
    "# Generate features\n",
    "complete_feature_set = create_feature_set(songDF, float_cols=float_cols)\n",
    "complete_feature_set.to_csv(\"complete_feature.csv\", index = False)\n",
    "complete_feature_set.head()\n"
   ]
  },
  {
   "cell_type": "markdown",
   "metadata": {
    "id": "cUuL-zq0JB1P"
   },
   "source": [
    "# Content Based Filtering Recommendation System"
   ]
  },
  {
   "cell_type": "markdown",
   "metadata": {
    "id": "dccH3fN97DCE"
   },
   "source": [
    "##### Generating dataframe for our own test playlist"
   ]
  },
  {
   "cell_type": "code",
   "execution_count": null,
   "metadata": {
    "colab": {
     "base_uri": "https://localhost:8080/"
    },
    "id": "q-U48-M9Iy6q",
    "outputId": "1fe8447b-6052-4942-d892-6068d77b9774"
   },
   "outputs": [],
   "source": [
    "def getTrackIDs(user, playlist_id):\n",
    "    track_ids = []\n",
    "    album = sp.user_playlist(user, playlist_id)\n",
    "    for item in album['tracks']['items']:\n",
    "        track = item['track']\n",
    "        track_ids.append(track['id'])\n",
    "        \n",
    "    return track_ids\n",
    "\n",
    "playlist_id = '27BSSlQSdagI7tLCa1Er5h' #'05gH5lXkOkFbqiAr8fp2z3' #'3Sou7ezw8LlwyGyYR8GIHn' #'4Qbssf6a52hf05yBUcfP9B' #\"0ga3iD9AJ6dIF2aJFJbtBK\" #\"7zwImd1BbO2hqRPAgr3cuX\" #\"37i9dQZF1E4BV5Wf9ansml\"\n",
    "track_ids = getTrackIDs('spotify', playlist_id) #\"37i9dQZF1EIWxl7OVJOaqC\")\n",
    "print(len(track_ids))\n",
    "print(track_ids)"
   ]
  },
  {
   "cell_type": "code",
   "execution_count": null,
   "metadata": {
    "id": "ZgWYk2-RJnx5"
   },
   "outputs": [],
   "source": [
    "def getPlaylistFeatures(id):\n",
    "    track_info = sp.track(id)\n",
    "    playlist_info = sp.playlist(playlist_id)\n",
    "    features_info = sp.audio_features(id)\n",
    "\n",
    "    artist_name = track_info['album']['artists'][0]['name']\n",
    "    track_uri = id\n",
    "    artist_uri = track_info[\"artists\"][0][\"id\"]\n",
    "    track_name = track_info['name']\n",
    "    album_uri = track_info['album'][\"id\"]\n",
    "    duration_ms_x = track_info['duration_ms']\n",
    "    album_name = track_info['album']['name']\n",
    "    name = playlist_info['name'] #playlist name\n",
    "    \n",
    "    artist_info = sp.artist(artist_uri)\n",
    "    \n",
    "    danceability = features_info[0]['danceability']\n",
    "    energy = features_info[0]['energy']\n",
    "    key = features_info[0]['key']\n",
    "    loudness = features_info[0]['loudness']\n",
    "    mode = features_info[0]['mode']\n",
    "    speechiness = features_info[0]['speechiness']\n",
    "    acousticness = features_info[0]['acousticness']\n",
    "    instrumentalness = features_info[0]['instrumentalness']\n",
    "    liveness = features_info[0]['liveness']\n",
    "    valence = features_info[0]['valence']\n",
    "    tempo = features_info[0]['tempo']\n",
    "    type = features_info[0]['type']\n",
    "    id = id\n",
    "    uri = features_info[0]['uri'] #f\"spotify:track:{id}\"\n",
    "    track_href = f\"https://api.spotify.com/v1/tracks/{id}\"\n",
    "    analysis_url = f\"https://api.spotify.com/v1/audio-analysis/{id}\"\n",
    "    duration_ms_y = track_info['duration_ms']\n",
    "    time_signature = features_info[0]['time_signature']\n",
    "    artist_pop = sp.artist(artist_uri)['popularity']\n",
    "    genres = artist_info['genres']\n",
    "    track_pop = track_info['popularity']\n",
    "    artists_song = f\"{artist_name}{track_name}\"\n",
    "    \n",
    "    track_data = [artist_name, track_uri, artist_uri, track_name, album_uri, duration_ms_x, \n",
    "                  album_name, name, danceability, energy, key, loudness, mode, speechiness, \n",
    "                  acousticness, instrumentalness, liveness, valence, tempo, type, id, track_href, analysis_url, uri, duration_ms_y, \n",
    "                  time_signature, artist_pop, genres, track_pop, artists_song]\n",
    "    \n",
    "    return track_data"
   ]
  },
  {
   "cell_type": "code",
   "execution_count": null,
   "metadata": {
    "colab": {
     "base_uri": "https://localhost:8080/",
     "height": 467
    },
    "id": "8HBqWEPtJuyJ",
    "outputId": "360c2522-dcb4-4507-fd13-f1c33dcea2d8"
   },
   "outputs": [],
   "source": [
    "track_list = []\n",
    "for i in range(len(track_ids)):\n",
    "    time.sleep(.3)\n",
    "    track_data = getPlaylistFeatures(track_ids[i])\n",
    "    track_list.append(track_data)\n",
    "\n",
    "test_playlist = pd.DataFrame(track_list, columns = ['artist_name', 'track_uri', 'artist_uri', 'track_name', \n",
    "                                                   'album_uri', 'duration_ms_x', 'album_name', 'name', 'danceability', \n",
    "                                                   'energy', 'key', 'loudness', 'mode', 'speechiness', 'acousticness', \n",
    "                                                   'instrumentalness', 'liveness', 'valence', 'tempo', 'type', 'id', \n",
    "                                                   'track_href', 'analysis_url', 'uri', 'duration_ms_y', 'time_signature', \n",
    "                                                   'artist_pop', 'genres', 'track_pop', 'artists_song'])    \n",
    "\n",
    "test_playlist['pos'] = test_playlist.index\n",
    "test_playlist = test_playlist.reindex(columns = ['pos', 'artist_name', 'track_uri', 'artist_uri', 'track_name', \n",
    "                                               'album_uri', 'duration_ms_x', 'album_name', 'name', 'danceability', \n",
    "                                               'energy', 'key', 'loudness', 'mode', 'speechiness', 'acousticness', \n",
    "                                               'instrumentalness', 'liveness', 'valence', 'tempo', 'type', 'id', \n",
    "                                               'track_href', 'analysis_url', 'uri', 'duration_ms_y', 'time_signature', \n",
    "                                               'artist_pop', 'genres', 'track_pop', 'artists_song'])\n",
    "\n",
    "test_playlist.to_csv(\"tejTestPlaylist.csv\")\n",
    "test_playlist.head()"
   ]
  },
  {
   "cell_type": "code",
   "execution_count": null,
   "metadata": {
    "id": "NVdpoIFTKkZT"
   },
   "outputs": [],
   "source": [
    "playlistDF_test = pd.read_csv(\"tejTestPlaylist.csv\")"
   ]
  },
  {
   "cell_type": "markdown",
   "metadata": {
    "id": "qXVOHAWq7esm"
   },
   "source": [
    "##### Retrieving playlist-of-interest features and non-playlist-of-interest features"
   ]
  },
  {
   "cell_type": "code",
   "execution_count": null,
   "metadata": {
    "id": "nvgqu3l5KDKw"
   },
   "outputs": [],
   "source": [
    "def generate_playlist_feature(complete_feature_set, playlist_df):\n",
    "\n",
    "    # Find song features in the playlist\n",
    "    complete_feature_set_playlist = complete_feature_set[complete_feature_set['id'].isin(playlist_df['id'].values)]\n",
    "    # Find all non-playlist song features\n",
    "    complete_feature_set_nonplaylist = complete_feature_set[~complete_feature_set['id'].isin(playlist_df['id'].values)]\n",
    "    complete_feature_set_playlist_final = complete_feature_set_playlist.drop(columns = \"id\")\n",
    "    return complete_feature_set_playlist_final.sum(axis = 0), complete_feature_set_nonplaylist"
   ]
  },
  {
   "cell_type": "code",
   "execution_count": null,
   "metadata": {
    "id": "EzJULE2VKYNm"
   },
   "outputs": [],
   "source": [
    "# Generate the features\n",
    "complete_feature_set_playlist_vector, complete_feature_set_nonplaylist = generate_playlist_feature(complete_feature_set, playlistDF_test)"
   ]
  },
  {
   "cell_type": "code",
   "execution_count": null,
   "metadata": {
    "colab": {
     "base_uri": "https://localhost:8080/",
     "height": 297
    },
    "id": "Bj9kGzIBKb8R",
    "outputId": "95987253-1742-418e-e79c-59b0be5c8613"
   },
   "outputs": [],
   "source": [
    "# Non-playlist features\n",
    "complete_feature_set_nonplaylist.head()"
   ]
  },
  {
   "cell_type": "markdown",
   "metadata": {
    "id": "wtI00YPt7u_E"
   },
   "source": [
    "##### Summarise playlist features into one vector"
   ]
  },
  {
   "cell_type": "code",
   "execution_count": null,
   "metadata": {
    "colab": {
     "base_uri": "https://localhost:8080/"
    },
    "id": "bJZ1MnxxKsO6",
    "outputId": "05e64154-93c0-44b7-9fef-0a6506b0599e"
   },
   "outputs": [],
   "source": [
    "complete_feature_set_playlist_vector"
   ]
  },
  {
   "cell_type": "markdown",
   "metadata": {
    "id": "r-dxNU3j8GIX"
   },
   "source": [
    "##### Find Cosine Similarity between summarised playlist vector and all songs"
   ]
  },
  {
   "cell_type": "code",
   "execution_count": null,
   "metadata": {
    "id": "8ZKj-kFNKvN3"
   },
   "outputs": [],
   "source": [
    "def generate_playlist_recos(df, features, nonplaylist_features):\n",
    "\n",
    "    non_playlist_df = df[df['id'].isin(nonplaylist_features['id'].values)]\n",
    "    # Find cosine similarity between the playlist and the complete song set\n",
    "    non_playlist_df['sim'] = cosine_similarity(nonplaylist_features.drop('id', axis = 1).values, features.values.reshape(1, -1))[:,0]\n",
    "    non_playlist_df_top_40 = non_playlist_df.sort_values('sim',ascending = False).head(40)\n",
    "    \n",
    "    return non_playlist_df_top_40"
   ]
  },
  {
   "cell_type": "markdown",
   "metadata": {
    "id": "KEPWhFSL8R39"
   },
   "source": [
    "##### Generate playlist of Top 25 similar songs"
   ]
  },
  {
   "cell_type": "code",
   "execution_count": null,
   "metadata": {
    "colab": {
     "base_uri": "https://localhost:8080/",
     "height": 1000
    },
    "id": "Y2SJopu2KztP",
    "outputId": "47d6e947-b78b-41ad-ea83-b5b11ab88bda"
   },
   "outputs": [],
   "source": [
    "recommend = generate_playlist_recos(songDF, complete_feature_set_playlist_vector, complete_feature_set_nonplaylist)\n",
    "recommend.head(25)"
   ]
  },
  {
   "cell_type": "code",
   "execution_count": null,
   "metadata": {
    "colab": {
     "base_uri": "https://localhost:8080/",
     "height": 824
    },
    "id": "eoEQAibohksL",
    "outputId": "26aebda4-5a5d-4c86-a2ae-e7bf358cc241"
   },
   "outputs": [],
   "source": [
    "recommend[['artist_name', 'track_name', 'sim']][:25]"
   ]
  }
 ],
 "metadata": {
  "colab": {
   "provenance": []
  },
  "kernelspec": {
   "display_name": "Python 3 (ipykernel)",
   "language": "python",
   "name": "python3"
  },
  "language_info": {
   "codemirror_mode": {
    "name": "ipython",
    "version": 3
   },
   "file_extension": ".py",
   "mimetype": "text/x-python",
   "name": "python",
   "nbconvert_exporter": "python",
   "pygments_lexer": "ipython3",
   "version": "3.10.9"
  }
 },
 "nbformat": 4,
 "nbformat_minor": 1
}
