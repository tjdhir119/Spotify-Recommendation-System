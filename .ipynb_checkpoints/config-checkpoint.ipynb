{
 "cells": [
  {
   "cell_type": "code",
   "execution_count": 3,
   "id": "50ecccd8",
   "metadata": {},
   "outputs": [
    {
     "name": "stdout",
     "output_type": "stream",
     "text": [
      "Stored 'cid' (str)\n",
      "Stored 'secret' (str)\n"
     ]
    }
   ],
   "source": [
    "cid = \"6f7bff06f19947e49e83ba2d0cc8ab63\" \n",
    "%store cid\n",
    "secret = \"33d5afa733b04156804b25086d5e13ca\" \n",
    "%store secret"
   ]
  },
  {
   "cell_type": "code",
   "execution_count": null,
   "id": "33648c35",
   "metadata": {},
   "outputs": [],
   "source": []
  }
 ],
 "metadata": {
  "kernelspec": {
   "display_name": "Python 3 (ipykernel)",
   "language": "python",
   "name": "python3"
  },
  "language_info": {
   "codemirror_mode": {
    "name": "ipython",
    "version": 3
   },
   "file_extension": ".py",
   "mimetype": "text/x-python",
   "name": "python",
   "nbconvert_exporter": "python",
   "pygments_lexer": "ipython3",
   "version": "3.10.9"
  }
 },
 "nbformat": 4,
 "nbformat_minor": 5
}
